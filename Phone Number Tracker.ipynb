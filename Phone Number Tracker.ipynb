{
 "cells": [
  {
   "cell_type": "code",
   "execution_count": 6,
   "id": "c9e2ccab",
   "metadata": {},
   "outputs": [
    {
     "name": "stdout",
     "output_type": "stream",
     "text": [
      "Collecting phonenumbers\n",
      "  Obtaining dependency information for phonenumbers from https://files.pythonhosted.org/packages/4e/89/d04575ef4096b257fccbc8b790c350b65b0f6463849f090770487b38a60d/phonenumbers-8.13.38-py2.py3-none-any.whl.metadata\n",
      "  Downloading phonenumbers-8.13.38-py2.py3-none-any.whl.metadata (11 kB)\n",
      "Downloading phonenumbers-8.13.38-py2.py3-none-any.whl (2.6 MB)\n",
      "   ---------------------------------------- 0.0/2.6 MB ? eta -:--:--\n",
      "   ---------------------------------------- 0.0/2.6 MB ? eta -:--:--\n",
      "   ---------------------------------------- 0.0/2.6 MB 330.3 kB/s eta 0:00:08\n",
      "    --------------------------------------- 0.1/2.6 MB 544.7 kB/s eta 0:00:05\n",
      "   - -------------------------------------- 0.1/2.6 MB 798.9 kB/s eta 0:00:04\n",
      "   --- ------------------------------------ 0.2/2.6 MB 1.0 MB/s eta 0:00:03\n",
      "   --- ------------------------------------ 0.2/2.6 MB 1.0 MB/s eta 0:00:03\n",
      "   --- ------------------------------------ 0.2/2.6 MB 1.0 MB/s eta 0:00:03\n",
      "   ---- ----------------------------------- 0.3/2.6 MB 774.0 kB/s eta 0:00:03\n",
      "   ---- ----------------------------------- 0.3/2.6 MB 737.3 kB/s eta 0:00:04\n",
      "   ------ --------------------------------- 0.4/2.6 MB 897.8 kB/s eta 0:00:03\n",
      "   ------ --------------------------------- 0.4/2.6 MB 949.4 kB/s eta 0:00:03\n",
      "   -------- ------------------------------- 0.6/2.6 MB 1.1 MB/s eta 0:00:02\n",
      "   --------- ------------------------------ 0.6/2.6 MB 1.1 MB/s eta 0:00:02\n",
      "   ---------- ----------------------------- 0.7/2.6 MB 1.1 MB/s eta 0:00:02\n",
      "   ------------ --------------------------- 0.8/2.6 MB 1.2 MB/s eta 0:00:02\n",
      "   ------------ --------------------------- 0.8/2.6 MB 1.2 MB/s eta 0:00:02\n",
      "   ------------- -------------------------- 0.8/2.6 MB 1.1 MB/s eta 0:00:02\n",
      "   -------------- ------------------------- 1.0/2.6 MB 1.2 MB/s eta 0:00:02\n",
      "   ---------------- ----------------------- 1.1/2.6 MB 1.3 MB/s eta 0:00:02\n",
      "   ---------------- ----------------------- 1.1/2.6 MB 1.3 MB/s eta 0:00:02\n",
      "   ------------------ --------------------- 1.2/2.6 MB 1.3 MB/s eta 0:00:02\n",
      "   ------------------- -------------------- 1.3/2.6 MB 1.3 MB/s eta 0:00:02\n",
      "   ------------------- -------------------- 1.3/2.6 MB 1.3 MB/s eta 0:00:02\n",
      "   ------------------- -------------------- 1.3/2.6 MB 1.3 MB/s eta 0:00:02\n",
      "   ------------------- -------------------- 1.3/2.6 MB 1.3 MB/s eta 0:00:02\n",
      "   ------------------- -------------------- 1.3/2.6 MB 1.3 MB/s eta 0:00:02\n",
      "   ------------------- -------------------- 1.3/2.6 MB 1.3 MB/s eta 0:00:02\n",
      "   ----------------------- ---------------- 1.5/2.6 MB 1.2 MB/s eta 0:00:01\n",
      "   ------------------------ --------------- 1.6/2.6 MB 1.2 MB/s eta 0:00:01\n",
      "   ------------------------- -------------- 1.7/2.6 MB 1.2 MB/s eta 0:00:01\n",
      "   --------------------------- ------------ 1.8/2.6 MB 1.3 MB/s eta 0:00:01\n",
      "   ---------------------------- ----------- 1.9/2.6 MB 1.3 MB/s eta 0:00:01\n",
      "   ------------------------------ --------- 2.0/2.6 MB 1.3 MB/s eta 0:00:01\n",
      "   ------------------------------- -------- 2.0/2.6 MB 1.3 MB/s eta 0:00:01\n",
      "   -------------------------------- ------- 2.1/2.6 MB 1.3 MB/s eta 0:00:01\n",
      "   --------------------------------- ------ 2.2/2.6 MB 1.4 MB/s eta 0:00:01\n",
      "   ---------------------------------- ----- 2.3/2.6 MB 1.4 MB/s eta 0:00:01\n",
      "   ------------------------------------ --- 2.4/2.6 MB 1.4 MB/s eta 0:00:01\n",
      "   ---------------------------------------  2.5/2.6 MB 1.4 MB/s eta 0:00:01\n",
      "   ---------------------------------------  2.6/2.6 MB 1.4 MB/s eta 0:00:01\n",
      "   ---------------------------------------- 2.6/2.6 MB 1.4 MB/s eta 0:00:00\n",
      "Installing collected packages: phonenumbers\n",
      "Successfully installed phonenumbers-8.13.38\n",
      "Note: you may need to restart the kernel to use updated packages.\n"
     ]
    }
   ],
   "source": [
    "pip install phonenumbers"
   ]
  },
  {
   "cell_type": "code",
   "execution_count": 7,
   "id": "78d91933",
   "metadata": {},
   "outputs": [],
   "source": [
    "import phonenumbers\n",
    "from phonenumbers import geocoder\n",
    "from phonenumbers import carrier\n",
    "from phonenumbers import timezone"
   ]
  },
  {
   "cell_type": "code",
   "execution_count": 12,
   "id": "e980b017",
   "metadata": {},
   "outputs": [
    {
     "name": "stdout",
     "output_type": "stream",
     "text": [
      "Enter the phone number with country code: +919830981268\n",
      "Country Code: 91 National Number: 9830981268\n",
      "Number is Valid:  True\n",
      "Carrier name of number: Vodafone\n",
      "Timezone of the number: ('Asia/Calcutta',)\n",
      "Geo-location of the number: India\n"
     ]
    }
   ],
   "source": [
    "number = input(\"Enter the phone number with country code: \")\n",
    "\n",
    "my_number = phonenumbers.parse(number, \"GB\")\n",
    "print(my_number)\n",
    "print(\"Number is Valid: \", phonenumbers.is_valid_number(my_number))\n",
    "print(\"Carrier name of number:\", carrier.name_for_number(my_number, \"en\"))\n",
    "print(\"Timezone of the number:\", timezone.time_zones_for_number(my_number))\n",
    "print(\"Geo-location of the number:\", geocoder.description_for_number(my_number, 'en'))"
   ]
  },
  {
   "cell_type": "code",
   "execution_count": 14,
   "id": "24a3e698",
   "metadata": {},
   "outputs": [
    {
     "name": "stdout",
     "output_type": "stream",
     "text": [
      "Collecting beautifulsoupNote: you may need to restart the kernel to use updated packages.\n"
     ]
    },
    {
     "name": "stderr",
     "output_type": "stream",
     "text": [
      "  error: subprocess-exited-with-error\n",
      "  \n",
      "  python setup.py egg_info did not run successfully.\n",
      "  exit code: 1\n",
      "  \n",
      "  [7 lines of output]\n",
      "  Traceback (most recent call last):\n",
      "    File \"<string>\", line 2, in <module>\n",
      "    File \"<pip-setuptools-caller>\", line 34, in <module>\n",
      "    File \"C:\\Users\\Souvik saha\\AppData\\Local\\Temp\\pip-install-5kvy788x\\beautifulsoup_bbd0eb5b366242c48d9006711cf7c622\\setup.py\", line 3\n",
      "      \"You're trying to run a very old release of Beautiful Soup under Python 3. This will not work.\"<>\"Please use Beautiful Soup 4, available through the pip package 'beautifulsoup4'.\"\n",
      "                                                                                                     ^^\n",
      "  SyntaxError: invalid syntax\n",
      "  [end of output]\n",
      "  \n",
      "  note: This error originates from a subprocess, and is likely not a problem with pip.\n",
      "error: metadata-generation-failed\n",
      "\n",
      "Encountered error while generating package metadata.\n",
      "\n",
      "See above for output.\n",
      "\n",
      "note: This is an issue with the package mentioned above, not pip.\n",
      "hint: See above for details.\n"
     ]
    },
    {
     "name": "stdout",
     "output_type": "stream",
     "text": [
      "\n",
      "  Using cached BeautifulSoup-3.2.2.tar.gz (32 kB)\n",
      "  Preparing metadata (setup.py): started\n",
      "  Preparing metadata (setup.py): finished with status 'error'\n"
     ]
    }
   ],
   "source": []
  },
  {
   "cell_type": "code",
   "execution_count": null,
   "id": "d4ae3991",
   "metadata": {},
   "outputs": [],
   "source": []
  }
 ],
 "metadata": {
  "kernelspec": {
   "display_name": "Python 3 (ipykernel)",
   "language": "python",
   "name": "python3"
  },
  "language_info": {
   "codemirror_mode": {
    "name": "ipython",
    "version": 3
   },
   "file_extension": ".py",
   "mimetype": "text/x-python",
   "name": "python",
   "nbconvert_exporter": "python",
   "pygments_lexer": "ipython3",
   "version": "3.11.5"
  }
 },
 "nbformat": 4,
 "nbformat_minor": 5
}
